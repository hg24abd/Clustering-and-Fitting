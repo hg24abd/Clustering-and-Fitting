{
  "nbformat": 4,
  "nbformat_minor": 0,
  "metadata": {
    "colab": {
      "provenance": [],
      "authorship_tag": "ABX9TyOjifnUGJrKcvtZydvG4yOu",
      "include_colab_link": true
    },
    "kernelspec": {
      "name": "python3",
      "display_name": "Python 3"
    },
    "language_info": {
      "name": "python"
    }
  },
  "cells": [
    {
      "cell_type": "markdown",
      "metadata": {
        "id": "view-in-github",
        "colab_type": "text"
      },
      "source": [
        "<a href=\"https://colab.research.google.com/github/hg24abd/Clustering-and-Fitting/blob/main/clustering_and_fitting.ipynb\" target=\"_parent\"><img src=\"https://colab.research.google.com/assets/colab-badge.svg\" alt=\"Open In Colab\"/></a>"
      ]
    },
    {
      "cell_type": "markdown",
      "source": [
        "# Clustering and Regression Analysis of the Iris Dataset\n",
        "\n",
        "This notebook analyzes the Iris dataset using:\n",
        "1. **Exploratory data analysis** to understand the dataset.\n",
        "2. **Histogram plot** to visualize the distribution of sepal lengths.\n",
        "3. **K-means clustering** to group the dataset into meaningful clusters.\n",
        "4. **Elbow plot** to determine the optimal number of clusters.\n",
        "5. **Scatter plot** to visualize the clusters.\n",
        "6. **Linear regression** to examine the relationship between sepal length and petal length.\n",
        "\n",
        "The results are presented with clear visualizations, and the Python code adheres to professional standards."
      ],
      "metadata": {
        "id": "4gbtSJtpd0cT"
      }
    },
    {
      "cell_type": "markdown",
      "source": [
        "## Step 1: Import Required Libraries\n",
        "\n",
        "We use popular Python libraries like `pandas` for data handling, `matplotlib` for visualizations, and `scikit-learn` for clustering and regression tasks."
      ],
      "metadata": {
        "id": "ZKIu2Lw1eJi-"
      }
    },
    {
      "cell_type": "code",
      "source": [
        "# Import necessary libraries\n",
        "import pandas as pd\n",
        "import numpy as np\n",
        "import matplotlib.pyplot as plt\n",
        "import seaborn as sns\n",
        "from sklearn.cluster import KMeans\n",
        "from sklearn.linear_model import LinearRegression\n",
        "from sklearn.preprocessing import StandardScaler\n",
        "from google.colab import files"
      ],
      "metadata": {
        "id": "EPAbpmBHdpBU"
      },
      "execution_count": null,
      "outputs": []
    },
    {
      "cell_type": "code",
      "source": [
        "# Set Seaborn Style for Better Aesthetics\n",
        "sns.set(style=\"whitegrid\", palette=\"muted\", font_scale=1.2)"
      ],
      "metadata": {
        "id": "7NyJS85_etyc"
      },
      "execution_count": null,
      "outputs": []
    },
    {
      "cell_type": "code",
      "source": [
        "# Load the dataset\n",
        "from google.colab import files\n",
        "uploaded = files.upload()\n",
        "file_path = 'iris_cluster_vibes.data'\n",
        "iris_df = load_iris_dataset(file_path)"
      ],
      "metadata": {
        "id": "f188jLb4iVkJ"
      },
      "execution_count": null,
      "outputs": []
    },
    {
      "cell_type": "markdown",
      "source": [
        "## Step 2: Load the Dataset\n",
        "\n",
        "The Iris dataset contains information about three species of flowers. We load it into a DataFrame and add appropriate column names for better readability."
      ],
      "metadata": {
        "id": "1ktBNLxEehNB"
      }
    },
    {
      "cell_type": "code",
      "source": [
        "# Load the Iris Dataset\n",
        "def load_iris_dataset(filepath):\n",
        "    \"\"\"\n",
        "    Load the Iris dataset from the provided file path.\n",
        "\n",
        "    Args:\n",
        "        filepath (str): Path to the Iris dataset file.\n",
        "\n",
        "    Returns:\n",
        "        pd.DataFrame: Loaded dataset with column names.\n",
        "    \"\"\"\n",
        "    columns = ['sepal_length', 'sepal_width', 'petal_length', 'petal_width', 'species']\n",
        "    return pd.read_csv(filepath, header=None, names=columns)"
      ],
      "metadata": {
        "id": "i7RWDsBBdpD8"
      },
      "execution_count": null,
      "outputs": []
    },
    {
      "cell_type": "markdown",
      "source": [
        "## Step 3: Exploratory Data Analysis\n",
        "\n",
        "We explore the dataset to understand its structure and contents:\n",
        "1. Print dataset information.\n",
        "2. Display summary statistics.\n",
        "3. Check the unique species available."
      ],
      "metadata": {
        "id": "_CCHSxnbfgT1"
      }
    },
    {
      "cell_type": "code",
      "source": [
        "# Exploratory Analysis\n",
        "def exploratory_analysis(df):\n",
        "    \"\"\"\n",
        "    Perform basic exploratory analysis and display summary statistics.\n",
        "\n",
        "    Args:\n",
        "        df (pd.DataFrame): The dataset.\n",
        "    \"\"\"\n",
        "    print(\"Dataset Info:\")\n",
        "    print(df.info())\n",
        "    print(\"\\nStatistical Summary:\")\n",
        "    print(df.describe())\n",
        "    print(\"\\nUnique Species:\")\n",
        "    print(df['species'].unique())\n",
        "\n",
        "# Perform exploratory analysis\n",
        "exploratory_analysis(iris_df)"
      ],
      "metadata": {
        "id": "m4PerZb6dpGU"
      },
      "execution_count": null,
      "outputs": []
    },
    {
      "cell_type": "markdown",
      "source": [
        "## Step 4: Histogram for Sepal Length\n",
        "\n",
        "We create a histogram to visualize the distribution of sepal lengths across the dataset."
      ],
      "metadata": {
        "id": "1mlpb4zUf9YL"
      }
    },
    {
      "cell_type": "code",
      "source": [
        "# Plot histogram with enhanced style\n",
        "def plot_histogram(df, column):\n",
        "    \"\"\"\n",
        "    Plot a histogram for the specified column.\n",
        "\n",
        "    Args:\n",
        "        df (pd.DataFrame): The dataset.\n",
        "        column (str): Column name to plot the histogram.\n",
        "    \"\"\"\n",
        "    plt.figure(figsize=(10, 6))\n",
        "    sns.histplot(df[column], bins=15, kde=True, color=\"skyblue\", edgecolor='black', linewidth=1.5)\n",
        "    plt.title(f\"Distribution of {column}\", fontsize=16)\n",
        "    plt.xlabel(column, fontsize=14)\n",
        "    plt.ylabel(\"Frequency\", fontsize=14)\n",
        "    plt.grid(True, linestyle='--', alpha=0.6)\n",
        "    plt.savefig(\"sepal_length_histogram.png\", bbox_inches='tight')\n",
        "    plt.show()\n",
        "\n",
        "# Plot the histogram for sepal length\n",
        "plot_histogram(iris_df, 'sepal_length')"
      ],
      "metadata": {
        "id": "gl_QroLFdpPE"
      },
      "execution_count": null,
      "outputs": []
    },
    {
      "cell_type": "markdown",
      "source": [
        "## Step 5: Elbow Method for Clustering\n",
        "\n",
        "The elbow method helps determine the optimal number of clusters for k-means. We plot inertia (sum of squared distances) for different cluster numbers."
      ],
      "metadata": {
        "id": "Tng1YqaygTeU"
      }
    },
    {
      "cell_type": "code",
      "source": [
        "# Elbow method for K-Means with enhanced plot style\n",
        "def plot_elbow_method(df, columns):\n",
        "    \"\"\"\n",
        "    Determine the optimal number of clusters using the Elbow Method.\n",
        "\n",
        "    Args:\n",
        "        df (pd.DataFrame): The dataset.\n",
        "        columns (list): Columns used for clustering.\n",
        "    \"\"\"\n",
        "    scaler = StandardScaler()\n",
        "    scaled_data = scaler.fit_transform(df[columns])\n",
        "\n",
        "    inertia = []\n",
        "    for k in range(1, 11):\n",
        "        kmeans = KMeans(n_clusters=k, random_state=42)\n",
        "        kmeans.fit(scaled_data)\n",
        "        inertia.append(kmeans.inertia_)\n",
        "\n",
        "    plt.figure(figsize=(10, 6))\n",
        "    plt.plot(range(1, 11), inertia, marker='o', linestyle='-', color='#FF6347', linewidth=2)\n",
        "    plt.title(\"Elbow Method to Determine Optimal Clusters\", fontsize=16)\n",
        "    plt.xlabel(\"Number of Clusters\", fontsize=14)\n",
        "    plt.ylabel(\"Inertia\", fontsize=14)\n",
        "    plt.grid(True, linestyle='--', alpha=0.6)\n",
        "    plt.xticks(range(1, 11))\n",
        "    plt.savefig(\"elbow_plot.png\", bbox_inches='tight')\n",
        "    plt.show()\n",
        "\n",
        "# Plot the elbow method\n",
        "plot_elbow_method(iris_df, ['sepal_length', 'sepal_width', 'petal_length', 'petal_width'])"
      ],
      "metadata": {
        "id": "HYxKDm52dpSU"
      },
      "execution_count": null,
      "outputs": []
    },
    {
      "cell_type": "markdown",
      "source": [
        "## Step 6: K-Means Clustering\n",
        "\n",
        "We apply k-means clustering to group the dataset into clusters. We use normalized data for better clustering performance."
      ],
      "metadata": {
        "id": "Yet3D3YqgmJr"
      }
    },
    {
      "cell_type": "code",
      "source": [
        "# Perform K-Means clustering with unique color palette\n",
        "def perform_kmeans_clustering(df, columns, n_clusters):\n",
        "    scaler = StandardScaler()\n",
        "    scaled_data = scaler.fit_transform(df[columns])\n",
        "\n",
        "    kmeans = KMeans(n_clusters=n_clusters, random_state=42)\n",
        "    df['Cluster'] = kmeans.fit_predict(scaled_data)\n",
        "    return df\n",
        "\n",
        "# Apply k-means clustering\n",
        "iris_df = perform_kmeans_clustering(iris_df, ['sepal_length', 'sepal_width', 'petal_length', 'petal_width'], n_clusters=3)"
      ],
      "metadata": {
        "id": "Vmm-k_cWdpWm"
      },
      "execution_count": null,
      "outputs": []
    },
    {
      "cell_type": "markdown",
      "source": [
        "## Step 7: Scatter Plot for Clusters\n",
        "\n",
        "We create a scatter plot to visualize how data points are grouped into clusters based on sepal length and petal length."
      ],
      "metadata": {
        "id": "BdZ2xAqpg22z"
      }
    },
    {
      "cell_type": "code",
      "source": [
        "# Scatter plot for clusters with unique and bright colors\n",
        "def plot_cluster_scatter(df, x_col, y_col, cluster_col):\n",
        "    \"\"\"\n",
        "    Create a scatter plot to visualize clusters.\n",
        "\n",
        "    Args:\n",
        "        df (pd.DataFrame): The dataset.\n",
        "        x_col (str): Column for x-axis.\n",
        "        y_col (str): Column for y-axis.\n",
        "        cluster_col (str): Column for cluster labels.\n",
        "    \"\"\"\n",
        "    plt.figure(figsize=(10, 6))\n",
        "    scatter = plt.scatter(df[x_col], df[y_col], c=df[cluster_col], cmap='Set2', alpha=0.8, s=100, edgecolor='black')\n",
        "    plt.colorbar(scatter, label='Cluster')\n",
        "    plt.title(\"Scatter Plot of Clusters\", fontsize=16)\n",
        "    plt.xlabel(x_col, fontsize=14)\n",
        "    plt.ylabel(y_col, fontsize=14)\n",
        "    plt.grid(True, linestyle='--', alpha=0.6)\n",
        "    plt.savefig(\"cluster_scatter_plot.png\", bbox_inches='tight')\n",
        "    plt.show()\n",
        "\n",
        "# Plot the scatter plot for clusters\n",
        "plot_cluster_scatter(iris_df, 'sepal_length', 'petal_length', 'Cluster')"
      ],
      "metadata": {
        "id": "qJwcraNNdpZU"
      },
      "execution_count": null,
      "outputs": []
    },
    {
      "cell_type": "markdown",
      "source": [
        "## Step 8: Linear Regression Analysis\n",
        "\n",
        "We analyze the relationship between sepal length and petal length using linear regression. The regression line shows the trend in the data."
      ],
      "metadata": {
        "id": "X_EoKXzbhMor"
      }
    },
    {
      "cell_type": "code",
      "source": [
        "# Linear regression with stylish plot\n",
        "def perform_linear_regression(df, x_col, y_col):\n",
        "    \"\"\"\n",
        "    Perform linear regression and plot the regression line.\n",
        "\n",
        "    Args:\n",
        "        df (pd.DataFrame): The dataset.\n",
        "        x_col (str): Independent variable.\n",
        "        y_col (str): Dependent variable.\n",
        "    \"\"\"\n",
        "    X = df[[x_col]].values\n",
        "    y = df[y_col].values\n",
        "\n",
        "    model = LinearRegression()\n",
        "    model.fit(X, y)\n",
        "    predictions = model.predict(X)\n",
        "\n",
        "    plt.figure(figsize=(10, 6))\n",
        "    plt.scatter(X, y, color=\"deepskyblue\", label=\"Data Points\", alpha=0.7, s=100, edgecolor='black')\n",
        "    plt.plot(X, predictions, color=\"darkorange\", linewidth=3, label=\"Regression Line\")\n",
        "    plt.title(f\"Linear Regression: {y_col} vs {x_col}\", fontsize=16)\n",
        "    plt.xlabel(x_col, fontsize=14)\n",
        "    plt.ylabel(y_col, fontsize=14)\n",
        "    plt.legend(fontsize=12)\n",
        "    plt.grid(True, linestyle='--', alpha=0.6)\n",
        "    plt.savefig(\"regression_plot.png\", bbox_inches='tight')\n",
        "    plt.show()\n",
        "\n",
        "    return model\n",
        "\n",
        "# Perform linear regression\n",
        "perform_linear_regression(iris_df, 'sepal_length', 'petal_length')"
      ],
      "metadata": {
        "id": "My3XXxZ8dpd8"
      },
      "execution_count": null,
      "outputs": []
    },
    {
      "cell_type": "markdown",
      "source": [
        "## Conclusion\n",
        "\n",
        "This notebook successfully performs clustering and regression analysis on the Iris dataset:\n",
        "1. A histogram visualized the distribution of sepal length.\n",
        "2. K-means clustering grouped the dataset into three clusters.\n",
        "3. Linear regression showed a strong relationship between sepal length and petal length."
      ],
      "metadata": {
        "id": "QBo8fEJuhcly"
      }
    }
  ]
}